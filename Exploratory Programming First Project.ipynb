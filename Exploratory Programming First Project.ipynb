{
 "cells": [
  {
   "cell_type": "code",
   "execution_count": 48,
   "metadata": {},
   "outputs": [],
   "source": [
    "import random\n",
    "total_test_scores = []\n",
    "def average(total_test_scores):\n",
    "    total_test_scores = []\n",
    "    for counter in range (1,6): # a for loop that enables randomly generated test_scores values to be added to the overall list 5 times\n",
    "        test_scores = random.uniform(1,101) # randomly generated test_scores values ranging between 2 and 101\n",
    "        total_test_scores.append(int(test_scores)) # individually adds inputed numbers into list and formats the numbers in float form          \n",
    "    print \"-----------------------------------------------------------------------------------\"       \n",
    "    print \"\"\n",
    "    print \"List of test scores: \" + str(total_test_scores)\n",
    "    print \"Sum of test scores: \" + str(sum(total_test_scores))\n",
    "    print \"Length of list: \" + str(len(total_test_scores))\n",
    "    average_test_scores = (sum(total_test_scores)/len(total_test_scores)) #finds sum and length of list to compute average_test_scores\n",
    "    print \"Average of test scores: \" + str(average_test_scores) # prints average_test_scores in string form"
   ]
  },
  {
   "cell_type": "code",
   "execution_count": 49,
   "metadata": {},
   "outputs": [
    {
     "name": "stdout",
     "output_type": "stream",
     "text": [
      "-----------------------------------------------------------------------------------\n",
      "\n",
      "List of test scores: [99, 97, 64, 56, 20]\n",
      "Sum of test scores: 336\n",
      "Length of list: 5\n",
      "Average of test scores: 67\n"
     ]
    }
   ],
   "source": [
    "average(total_test_scores)"
   ]
  },
  {
   "cell_type": "code",
   "execution_count": null,
   "metadata": {},
   "outputs": [],
   "source": []
  }
 ],
 "metadata": {
  "kernelspec": {
   "display_name": "Python 2",
   "language": "python",
   "name": "python2"
  },
  "language_info": {
   "codemirror_mode": {
    "name": "ipython",
    "version": 2
   },
   "file_extension": ".py",
   "mimetype": "text/x-python",
   "name": "python",
   "nbconvert_exporter": "python",
   "pygments_lexer": "ipython2",
   "version": "2.7.15"
  }
 },
 "nbformat": 4,
 "nbformat_minor": 2
}
